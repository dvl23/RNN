{
 "cells": [
  {
   "cell_type": "code",
   "execution_count": 75,
   "metadata": {},
   "outputs": [],
   "source": [
    "import numpy as np\n",
    "import matplotlib.pyplot as plt\n",
    "import pandas as pd\n"
   ]
  },
  {
   "cell_type": "code",
   "execution_count": 110,
   "metadata": {},
   "outputs": [
    {
     "data": {
      "text/plain": [
       "(4817, 7)"
      ]
     },
     "execution_count": 110,
     "metadata": {},
     "output_type": "execute_result"
    }
   ],
   "source": [
    "forecast = pd.read_csv('C:/DataSet/RNN/actual.csv') #Importing data with pandas\n",
    "forecast.shape #Data contains 4817 rows and 7 columns\n"
   ]
  },
  {
   "cell_type": "code",
   "execution_count": 103,
   "metadata": {},
   "outputs": [
    {
     "data": {
      "text/plain": [
       "array([[388.7],\n",
       "       [388.7],\n",
       "       [395.9],\n",
       "       ...,\n",
       "       [354.8],\n",
       "       [357.9],\n",
       "       [350.3]])"
      ]
     },
     "execution_count": 103,
     "metadata": {},
     "output_type": "execute_result"
    }
   ],
   "source": [
    "forecast_processed = forecast.iloc[:,1:2].values #Grabbing only the price column\n",
    "forecast_processed"
   ]
  },
  {
   "cell_type": "code",
   "execution_count": 104,
   "metadata": {},
   "outputs": [
    {
     "data": {
      "text/plain": [
       "Date        0\n",
       "Price       0\n",
       "Open        0\n",
       "High        0\n",
       "Low         0\n",
       "Vol.        0\n",
       "Change %    0\n",
       "dtype: int64"
      ]
     },
     "execution_count": 104,
     "metadata": {},
     "output_type": "execute_result"
    }
   ],
   "source": [
    "forecast.isnull().sum() #Checking to see if we have any empty data"
   ]
  },
  {
   "cell_type": "markdown",
   "metadata": {},
   "source": [
    "# Scaling data"
   ]
  },
  {
   "cell_type": "code",
   "execution_count": 106,
   "metadata": {},
   "outputs": [],
   "source": [
    "from sklearn.preprocessing import MinMaxScaler "
   ]
  },
  {
   "cell_type": "code",
   "execution_count": 107,
   "metadata": {},
   "outputs": [],
   "source": [
    "scaler = MinMaxScaler(feature_range = (0,1))"
   ]
  },
  {
   "cell_type": "code",
   "execution_count": 108,
   "metadata": {},
   "outputs": [],
   "source": [
    "forecast_scaled = scaler.fit_transform(forecast_processed)"
   ]
  },
  {
   "cell_type": "code",
   "execution_count": 109,
   "metadata": {},
   "outputs": [
    {
     "data": {
      "text/plain": [
       "array([[0.48859427],\n",
       "       [0.48859427],\n",
       "       [0.50263209],\n",
       "       ...,\n",
       "       [0.42249951],\n",
       "       [0.42854358],\n",
       "       [0.41372587]])"
      ]
     },
     "execution_count": 109,
     "metadata": {},
     "output_type": "execute_result"
    }
   ],
   "source": [
    "forecast_scaled"
   ]
  },
  {
   "cell_type": "code",
   "execution_count": 111,
   "metadata": {},
   "outputs": [],
   "source": [
    "#In a time series problem, we have to predict a value at time T, based on the data from days T-N, where N can be any number\n",
    "#of steps. Here, we are going to predict the value price of the data based on the value for the past 60 days. \n",
    "\n",
    "#4817 refers to the number of rows in the training dataset\n",
    "\n",
    "X_train = [] #creating list\n",
    "y_train = [] #creating list\n",
    "for i in range(60, 4817):\n",
    "    X_train.append(forecast_scaled[i-60:i, 0]) #X_train should contain the stock value for the past 60 days\n",
    "    y_train.append(forecast_scaled[i, 0]) #Y-train should contain the stock value at the 61st day\n",
    "X_train, y_train = np.array(X_train), np.array(y_train)#convert to numpy array\n",
    "\n",
    "X_train = np.reshape(X_train, (X_train.shape[0], X_train.shape[1], 1))"
   ]
  },
  {
   "cell_type": "markdown",
   "metadata": {},
   "source": [
    "# Importing important libraries"
   ]
  },
  {
   "cell_type": "code",
   "execution_count": 112,
   "metadata": {},
   "outputs": [],
   "source": [
    "from keras.models import Sequential\n",
    "from keras.layers import Dense\n",
    "from keras.layers import LSTM\n",
    "from keras.layers import Dropout"
   ]
  },
  {
   "cell_type": "code",
   "execution_count": 133,
   "metadata": {},
   "outputs": [
    {
     "name": "stdout",
     "output_type": "stream",
     "text": [
      "_________________________________________________________________\n",
      "Layer (type)                 Output Shape              Param #   \n",
      "=================================================================\n",
      "lstm_25 (LSTM)               (None, 60, 50)            10400     \n",
      "_________________________________________________________________\n",
      "dropout_25 (Dropout)         (None, 60, 50)            0         \n",
      "_________________________________________________________________\n",
      "lstm_26 (LSTM)               (None, 60, 50)            20200     \n",
      "_________________________________________________________________\n",
      "dropout_26 (Dropout)         (None, 60, 50)            0         \n",
      "_________________________________________________________________\n",
      "lstm_27 (LSTM)               (None, 60, 50)            20200     \n",
      "_________________________________________________________________\n",
      "dropout_27 (Dropout)         (None, 60, 50)            0         \n",
      "_________________________________________________________________\n",
      "lstm_28 (LSTM)               (None, 50)                20200     \n",
      "_________________________________________________________________\n",
      "dropout_28 (Dropout)         (None, 50)                0         \n",
      "_________________________________________________________________\n",
      "dense_7 (Dense)              (None, 1)                 51        \n",
      "=================================================================\n",
      "Total params: 71,051\n",
      "Trainable params: 71,051\n",
      "Non-trainable params: 0\n",
      "_________________________________________________________________\n"
     ]
    }
   ],
   "source": [
    "regressor = Sequential()\n",
    "\n",
    "regressor.add(LSTM(units = 50, return_sequences = True, input_shape = (X_train.shape[1], 1)))\n",
    "regressor.add(Dropout(0.2))\n",
    "\n",
    "regressor.add(LSTM(units = 50, return_sequences = True))\n",
    "regressor.add(Dropout(0.2))\n",
    "\n",
    "regressor.add(LSTM(units = 50, return_sequences = True))\n",
    "regressor.add(Dropout(0.2))\n",
    "\n",
    "regressor.add(LSTM(units = 50))\n",
    "regressor.add(Dropout(0.2))\n",
    "\n",
    "regressor.add(Dense(units = 1))\n",
    "\n",
    "regressor.summary()"
   ]
  },
  {
   "cell_type": "code",
   "execution_count": 134,
   "metadata": {},
   "outputs": [],
   "source": [
    "regressor.compile(optimizer = 'adam', loss = 'mean_squared_error')"
   ]
  },
  {
   "cell_type": "code",
   "execution_count": 135,
   "metadata": {},
   "outputs": [
    {
     "name": "stdout",
     "output_type": "stream",
     "text": [
      "Epoch 1/100\n",
      "4757/4757 [==============================] - 26s 6ms/step - loss: 0.0140\n",
      "Epoch 2/100\n",
      "4757/4757 [==============================] - 19s 4ms/step - loss: 0.0029\n",
      "Epoch 3/100\n",
      "4757/4757 [==============================] - 19s 4ms/step - loss: 0.0026\n",
      "Epoch 4/100\n",
      "4757/4757 [==============================] - 20s 4ms/step - loss: 0.0024\n",
      "Epoch 5/100\n",
      "4757/4757 [==============================] - 19s 4ms/step - loss: 0.0024\n",
      "Epoch 6/100\n",
      "4757/4757 [==============================] - 20s 4ms/step - loss: 0.0022\n",
      "Epoch 7/100\n",
      "4757/4757 [==============================] - 19s 4ms/step - loss: 0.0020\n",
      "Epoch 8/100\n",
      "4757/4757 [==============================] - 20s 4ms/step - loss: 0.0019\n",
      "Epoch 9/100\n",
      "4757/4757 [==============================] - 20s 4ms/step - loss: 0.0019\n",
      "Epoch 10/100\n",
      "4757/4757 [==============================] - 19s 4ms/step - loss: 0.0018\n",
      "Epoch 11/100\n",
      "4757/4757 [==============================] - 20s 4ms/step - loss: 0.0017\n",
      "Epoch 12/100\n",
      "4757/4757 [==============================] - 19s 4ms/step - loss: 0.0016\n",
      "Epoch 13/100\n",
      "4757/4757 [==============================] - 20s 4ms/step - loss: 0.0015\n",
      "Epoch 14/100\n",
      "4757/4757 [==============================] - 19s 4ms/step - loss: 0.0015\n",
      "Epoch 15/100\n",
      "4757/4757 [==============================] - 20s 4ms/step - loss: 0.0015\n",
      "Epoch 16/100\n",
      "4757/4757 [==============================] - 19s 4ms/step - loss: 0.0015\n",
      "Epoch 17/100\n",
      "4757/4757 [==============================] - 19s 4ms/step - loss: 0.0014\n",
      "Epoch 18/100\n",
      "4757/4757 [==============================] - 18s 4ms/step - loss: 0.0014\n",
      "Epoch 19/100\n",
      "4757/4757 [==============================] - 18s 4ms/step - loss: 0.0013\n",
      "Epoch 20/100\n",
      "4757/4757 [==============================] - 18s 4ms/step - loss: 0.0014\n",
      "Epoch 21/100\n",
      "4757/4757 [==============================] - 19s 4ms/step - loss: 0.0012\n",
      "Epoch 22/100\n",
      "4757/4757 [==============================] - 19s 4ms/step - loss: 0.0012\n",
      "Epoch 23/100\n",
      "4757/4757 [==============================] - 19s 4ms/step - loss: 0.0012\n",
      "Epoch 24/100\n",
      "4757/4757 [==============================] - 20s 4ms/step - loss: 0.0011\n",
      "Epoch 25/100\n",
      "4757/4757 [==============================] - 19s 4ms/step - loss: 0.0011\n",
      "Epoch 26/100\n",
      "4757/4757 [==============================] - 19s 4ms/step - loss: 0.0011\n",
      "Epoch 27/100\n",
      "4757/4757 [==============================] - 19s 4ms/step - loss: 0.0011\n",
      "Epoch 28/100\n",
      "4757/4757 [==============================] - 19s 4ms/step - loss: 0.0010\n",
      "Epoch 29/100\n",
      "4757/4757 [==============================] - 20s 4ms/step - loss: 9.9816e-04\n",
      "Epoch 30/100\n",
      "4757/4757 [==============================] - 19s 4ms/step - loss: 0.0012\n",
      "Epoch 31/100\n",
      "4757/4757 [==============================] - 19s 4ms/step - loss: 9.7104e-04\n",
      "Epoch 32/100\n",
      "4757/4757 [==============================] - 19s 4ms/step - loss: 9.8855e-04\n",
      "Epoch 33/100\n",
      "4757/4757 [==============================] - 20s 4ms/step - loss: 9.5754e-04\n",
      "Epoch 34/100\n",
      "4757/4757 [==============================] - 20s 4ms/step - loss: 9.5597e-04\n",
      "Epoch 35/100\n",
      "4757/4757 [==============================] - 18s 4ms/step - loss: 8.5611e-04\n",
      "Epoch 36/100\n",
      "4757/4757 [==============================] - 19s 4ms/step - loss: 8.4121e-04\n",
      "Epoch 37/100\n",
      "4757/4757 [==============================] - 19s 4ms/step - loss: 8.0922e-04\n",
      "Epoch 38/100\n",
      "4757/4757 [==============================] - 19s 4ms/step - loss: 8.6014e-04\n",
      "Epoch 39/100\n",
      "4757/4757 [==============================] - 21s 4ms/step - loss: 8.3531e-04\n",
      "Epoch 40/100\n",
      "4757/4757 [==============================] - 22s 5ms/step - loss: 8.8709e-04\n",
      "Epoch 41/100\n",
      "4757/4757 [==============================] - 20s 4ms/step - loss: 8.1147e-04\n",
      "Epoch 42/100\n",
      "4757/4757 [==============================] - 20s 4ms/step - loss: 7.9217e-04\n",
      "Epoch 43/100\n",
      "4757/4757 [==============================] - 19s 4ms/step - loss: 7.5248e-04\n",
      "Epoch 44/100\n",
      "4757/4757 [==============================] - 19s 4ms/step - loss: 8.1221e-04\n",
      "Epoch 45/100\n",
      "4757/4757 [==============================] - 18s 4ms/step - loss: 8.5164e-04\n",
      "Epoch 46/100\n",
      "4757/4757 [==============================] - 18s 4ms/step - loss: 7.2788e-04\n",
      "Epoch 47/100\n",
      "4757/4757 [==============================] - 19s 4ms/step - loss: 7.0094e-04\n",
      "Epoch 48/100\n",
      "4757/4757 [==============================] - 19s 4ms/step - loss: 7.4360e-04\n",
      "Epoch 49/100\n",
      "4757/4757 [==============================] - 20s 4ms/step - loss: 7.9973e-04\n",
      "Epoch 50/100\n",
      "4757/4757 [==============================] - 19s 4ms/step - loss: 6.8450e-04\n",
      "Epoch 51/100\n",
      "4757/4757 [==============================] - 19s 4ms/step - loss: 6.7670e-04\n",
      "Epoch 52/100\n",
      "4757/4757 [==============================] - 19s 4ms/step - loss: 7.3706e-04\n",
      "Epoch 53/100\n",
      "4757/4757 [==============================] - 19s 4ms/step - loss: 7.0673e-04\n",
      "Epoch 54/100\n",
      "4757/4757 [==============================] - 19s 4ms/step - loss: 6.3585e-04\n",
      "Epoch 55/100\n",
      "4757/4757 [==============================] - 20s 4ms/step - loss: 6.0788e-04\n",
      "Epoch 56/100\n",
      "4757/4757 [==============================] - 19s 4ms/step - loss: 6.2342e-04\n",
      "Epoch 57/100\n",
      "4757/4757 [==============================] - 19s 4ms/step - loss: 6.0691e-04\n",
      "Epoch 58/100\n",
      "4757/4757 [==============================] - 20s 4ms/step - loss: 5.8408e-04\n",
      "Epoch 59/100\n",
      "4757/4757 [==============================] - 19s 4ms/step - loss: 5.8274e-04\n",
      "Epoch 60/100\n",
      "4757/4757 [==============================] - 19s 4ms/step - loss: 6.1294e-04\n",
      "Epoch 61/100\n",
      "4757/4757 [==============================] - 19s 4ms/step - loss: 5.7405e-04\n",
      "Epoch 62/100\n",
      "4757/4757 [==============================] - 19s 4ms/step - loss: 5.5265e-04\n",
      "Epoch 63/100\n",
      "4757/4757 [==============================] - 20s 4ms/step - loss: 6.2450e-04\n",
      "Epoch 64/100\n",
      "4757/4757 [==============================] - 20s 4ms/step - loss: 6.0318e-04\n",
      "Epoch 65/100\n",
      "4757/4757 [==============================] - 19s 4ms/step - loss: 5.8014e-04\n",
      "Epoch 66/100\n",
      "4757/4757 [==============================] - 19s 4ms/step - loss: 6.1798e-04\n",
      "Epoch 67/100\n",
      "4757/4757 [==============================] - 20s 4ms/step - loss: 5.1244e-04\n",
      "Epoch 68/100\n",
      "4757/4757 [==============================] - 20s 4ms/step - loss: 5.4980e-04\n",
      "Epoch 69/100\n",
      "4757/4757 [==============================] - 20s 4ms/step - loss: 5.7234e-04\n",
      "Epoch 70/100\n",
      "4757/4757 [==============================] - 19s 4ms/step - loss: 4.9163e-04\n",
      "Epoch 71/100\n",
      "4757/4757 [==============================] - 19s 4ms/step - loss: 5.0787e-04\n",
      "Epoch 72/100\n",
      "4757/4757 [==============================] - 20s 4ms/step - loss: 5.3145e-04\n",
      "Epoch 73/100\n",
      "4757/4757 [==============================] - 19s 4ms/step - loss: 5.0235e-04\n",
      "Epoch 74/100\n",
      "4757/4757 [==============================] - 19s 4ms/step - loss: 4.9000e-04\n",
      "Epoch 75/100\n",
      "4757/4757 [==============================] - 19s 4ms/step - loss: 4.7485e-04\n",
      "Epoch 76/100\n",
      "4757/4757 [==============================] - 19s 4ms/step - loss: 4.9075e-04\n",
      "Epoch 77/100\n",
      "4757/4757 [==============================] - 19s 4ms/step - loss: 4.5476e-04\n",
      "Epoch 78/100\n",
      "4757/4757 [==============================] - 19s 4ms/step - loss: 4.4595e-04\n",
      "Epoch 79/100\n",
      "4757/4757 [==============================] - 19s 4ms/step - loss: 4.8902e-04\n",
      "Epoch 80/100\n",
      "4757/4757 [==============================] - 19s 4ms/step - loss: 5.1428e-04\n",
      "Epoch 81/100\n",
      "4757/4757 [==============================] - 19s 4ms/step - loss: 4.8649e-04\n",
      "Epoch 82/100\n",
      "4757/4757 [==============================] - 19s 4ms/step - loss: 4.7570e-04\n",
      "Epoch 83/100\n",
      "4757/4757 [==============================] - 19s 4ms/step - loss: 4.4451e-04\n",
      "Epoch 84/100\n",
      "4757/4757 [==============================] - 19s 4ms/step - loss: 4.8169e-04\n",
      "Epoch 85/100\n",
      "4757/4757 [==============================] - 19s 4ms/step - loss: 4.3635e-04\n",
      "Epoch 86/100\n",
      "4757/4757 [==============================] - 19s 4ms/step - loss: 4.6220e-04\n",
      "Epoch 87/100\n",
      "4757/4757 [==============================] - 19s 4ms/step - loss: 4.5120e-04\n",
      "Epoch 88/100\n",
      "4757/4757 [==============================] - 19s 4ms/step - loss: 4.5085e-04\n",
      "Epoch 89/100\n",
      "4757/4757 [==============================] - 19s 4ms/step - loss: 4.4072e-04\n",
      "Epoch 90/100\n",
      "4757/4757 [==============================] - 19s 4ms/step - loss: 4.5852e-04\n",
      "Epoch 91/100\n",
      "4757/4757 [==============================] - 19s 4ms/step - loss: 4.4526e-04\n",
      "Epoch 92/100\n",
      "4757/4757 [==============================] - 19s 4ms/step - loss: 4.5231e-04\n",
      "Epoch 93/100\n",
      "4757/4757 [==============================] - 19s 4ms/step - loss: 4.6877e-04\n",
      "Epoch 94/100\n",
      "4757/4757 [==============================] - 19s 4ms/step - loss: 4.4087e-04\n",
      "Epoch 95/100\n",
      "4757/4757 [==============================] - 19s 4ms/step - loss: 4.1463e-04\n",
      "Epoch 96/100\n",
      "4757/4757 [==============================] - 19s 4ms/step - loss: 4.2316e-04\n",
      "Epoch 97/100\n",
      "4757/4757 [==============================] - 18s 4ms/step - loss: 4.1466e-04\n",
      "Epoch 98/100\n",
      "4757/4757 [==============================] - 20s 4ms/step - loss: 4.3756e-04\n",
      "Epoch 99/100\n",
      "4757/4757 [==============================] - 19s 4ms/step - loss: 4.1489e-04\n",
      "Epoch 100/100\n",
      "4757/4757 [==============================] - 19s 4ms/step - loss: 4.0646e-04\n"
     ]
    },
    {
     "data": {
      "text/plain": [
       "<keras.callbacks.History at 0x20cd3c41ef0>"
      ]
     },
     "execution_count": 135,
     "metadata": {},
     "output_type": "execute_result"
    }
   ],
   "source": [
    "regressor.fit(X_train, y_train, epochs = 100, batch_size = 128)"
   ]
  },
  {
   "cell_type": "markdown",
   "metadata": {},
   "source": [
    "# Testing model"
   ]
  },
  {
   "cell_type": "code",
   "execution_count": 147,
   "metadata": {},
   "outputs": [
    {
     "data": {
      "text/html": [
       "<div>\n",
       "<style scoped>\n",
       "    .dataframe tbody tr th:only-of-type {\n",
       "        vertical-align: middle;\n",
       "    }\n",
       "\n",
       "    .dataframe tbody tr th {\n",
       "        vertical-align: top;\n",
       "    }\n",
       "\n",
       "    .dataframe thead th {\n",
       "        text-align: right;\n",
       "    }\n",
       "</style>\n",
       "<table border=\"1\" class=\"dataframe\">\n",
       "  <thead>\n",
       "    <tr style=\"text-align: right;\">\n",
       "      <th></th>\n",
       "      <th>Date</th>\n",
       "      <th>Price</th>\n",
       "      <th>Open</th>\n",
       "      <th>High</th>\n",
       "      <th>Low</th>\n",
       "      <th>Vol.</th>\n",
       "      <th>Change %</th>\n",
       "    </tr>\n",
       "  </thead>\n",
       "  <tbody>\n",
       "    <tr>\n",
       "      <th>0</th>\n",
       "      <td>10-Apr-19</td>\n",
       "      <td>342.4</td>\n",
       "      <td>342.3</td>\n",
       "      <td>344.8</td>\n",
       "      <td>336.0</td>\n",
       "      <td>0.30K</td>\n",
       "      <td>0.71%</td>\n",
       "    </tr>\n",
       "    <tr>\n",
       "      <th>1</th>\n",
       "      <td>9-Apr-19</td>\n",
       "      <td>340.0</td>\n",
       "      <td>346.1</td>\n",
       "      <td>346.1</td>\n",
       "      <td>338.1</td>\n",
       "      <td>0.63K</td>\n",
       "      <td>-1.59%</td>\n",
       "    </tr>\n",
       "    <tr>\n",
       "      <th>2</th>\n",
       "      <td>8-Apr-19</td>\n",
       "      <td>345.5</td>\n",
       "      <td>351.8</td>\n",
       "      <td>352.5</td>\n",
       "      <td>344.6</td>\n",
       "      <td>0.38K</td>\n",
       "      <td>-2.07%</td>\n",
       "    </tr>\n",
       "    <tr>\n",
       "      <th>3</th>\n",
       "      <td>5-Apr-19</td>\n",
       "      <td>352.8</td>\n",
       "      <td>354.8</td>\n",
       "      <td>357.7</td>\n",
       "      <td>351.1</td>\n",
       "      <td>0.40K</td>\n",
       "      <td>-2.08%</td>\n",
       "    </tr>\n",
       "    <tr>\n",
       "      <th>4</th>\n",
       "      <td>4-Apr-19</td>\n",
       "      <td>360.3</td>\n",
       "      <td>362.0</td>\n",
       "      <td>365.5</td>\n",
       "      <td>357.9</td>\n",
       "      <td>0.24K</td>\n",
       "      <td>-1.34%</td>\n",
       "    </tr>\n",
       "  </tbody>\n",
       "</table>\n",
       "</div>"
      ],
      "text/plain": [
       "        Date  Price   Open   High    Low   Vol. Change %\n",
       "0  10-Apr-19  342.4  342.3  344.8  336.0  0.30K    0.71%\n",
       "1   9-Apr-19  340.0  346.1  346.1  338.1  0.63K   -1.59%\n",
       "2   8-Apr-19  345.5  351.8  352.5  344.6  0.38K   -2.07%\n",
       "3   5-Apr-19  352.8  354.8  357.7  351.1  0.40K   -2.08%\n",
       "4   4-Apr-19  360.3  362.0  365.5  357.9  0.24K   -1.34%"
      ]
     },
     "execution_count": 147,
     "metadata": {},
     "output_type": "execute_result"
    }
   ],
   "source": [
    "dataset_test = pd.read_csv('C:/DataSet/RNN/Future.csv') #Imporing test data set\n",
    "dataset_test.head() #reading five first rows\n"
   ]
  },
  {
   "cell_type": "code",
   "execution_count": 180,
   "metadata": {},
   "outputs": [
    {
     "data": {
      "image/png": "[encoded data removed]",
      "text/plain": [
       "<Figure size 432x288 with 1 Axes>"
      ]
     },
     "metadata": {},
     "output_type": "display_data"
    }
   ],
   "source": [
    "real_stock_price = dataset_test.iloc[:, 1:2].values # ':' before ',' means that we choose all rows... \n",
    "                                        #1:2 means that we are going to start excluding 'Date' and stop at 'Price', but not \n",
    "                                        #excluding 'Price'\n",
    "plt.plot(real_stock_price)\n",
    "plt.xlabel('Time')\n",
    "plt.ylabel('Lumber Stock Price')\n",
    "plt.show()\n",
    "# The X-axis of 0 represents the latest day, whereas 30 is the oldest day. "
   ]
  },
  {
   "cell_type": "markdown",
   "metadata": {},
   "source": [
    "# Seeing some predictions"
   ]
  },
  {
   "cell_type": "code",
   "execution_count": 170,
   "metadata": {},
   "outputs": [],
   "source": [
    "dataset_total = pd.concat((forecast['Open'], dataset_test['Open']), axis = 0)\n",
    "inputs = dataset_total[len(dataset_total) - len(dataset_test) - 60:].values\n",
    "inputs = inputs.reshape(-1,1)\n",
    "inputs = sc.transform(inputs)\n",
    "\n"
   ]
  },
  {
   "cell_type": "code",
   "execution_count": 185,
   "metadata": {},
   "outputs": [],
   "source": [
    "X_test = []\n",
    "Y_test = []\n",
    "for i in range(60, 90):\n",
    "    X_test.append(inputs[i-60:i, 0])\n",
    "    Y_test.append(inputs[i,0])\n",
    "X_test = np.array(X_test)\n",
    "X_test = np.reshape(X_test, (X_test.shape[0], X_test.shape[1], 1))\n",
    "Y_test = np.array(Y_test)\n",
    "predicted_stock_price = regressor.predict(X_test)\n",
    "predicted_stock_price = sc.inverse_transform(predicted_stock_price)\n"
   ]
  },
  {
   "cell_type": "code",
   "execution_count": 176,
   "metadata": {},
   "outputs": [
    {
     "data": {
      "image/png": "[encoded data removed]",
      "text/plain": [
       "<Figure size 432x288 with 1 Axes>"
      ]
     },
     "metadata": {},
     "output_type": "display_data"
    }
   ],
   "source": [
    "plt.plot(real_stock_price, color = 'black', label = 'Lumber Price')\n",
    "plt.plot(predicted_stock_price, color = 'green', label = 'Predicted Lumber Price')\n",
    "plt.title('Lumber Stock Price Prediction')\n",
    "plt.xlabel('Time')\n",
    "plt.ylabel('Lumber Stock Price')\n",
    "plt.legend()\n",
    "plt.show()"
   ]
  },
  {
   "cell_type": "code",
   "execution_count": 186,
   "metadata": {},
   "outputs": [
    {
     "name": "stdout",
     "output_type": "stream",
     "text": [
      "\r",
      "30/30 [==============================] - 2s 51ms/step\n"
     ]
    },
    {
     "data": {
      "text/plain": [
       "0.0003594537847675383"
      ]
     },
     "execution_count": 186,
     "metadata": {},
     "output_type": "execute_result"
    }
   ],
   "source": [
    "regressor.evaluate(X_test, Y_test) #The value of 0.0003 corresponds to the mean squared error on test set, i.e, the green curve"
   ]
  },
  {
   "cell_type": "code",
   "execution_count": null,
   "metadata": {},
   "outputs": [],
   "source": [
    "Our model was able to predict lumber stock price relatively pretty close with real data.  "
   ]
  }
 ],
 "metadata": {
  "kernelspec": {
   "display_name": "Python 3",
   "language": "python",
   "name": "python3"
  },
  "language_info": {
   "codemirror_mode": {
    "name": "ipython",
    "version": 3
   },
   "file_extension": ".py",
   "mimetype": "text/x-python",
   "name": "python",
   "nbconvert_exporter": "python",
   "pygments_lexer": "ipython3",
   "version": "3.7.3"
  }
 },
 "nbformat": 4,
 "nbformat_minor": 2
}
